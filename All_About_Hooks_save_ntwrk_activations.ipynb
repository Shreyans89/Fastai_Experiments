{
 "cells": [
  {
   "cell_type": "code",
   "execution_count": 1,
   "id": "fcfa7861-b277-48a3-a3e8-40bdf1032a66",
   "metadata": {},
   "outputs": [],
   "source": [
    "%config Completer.use_jedi = False"
   ]
  },
  {
   "cell_type": "code",
   "execution_count": 2,
   "id": "54c22dc0-8ec0-4edb-9818-48393810679e",
   "metadata": {},
   "outputs": [],
   "source": [
    "#hide\n",
    "from fastai.vision.all import *\n",
    "#from fastai.tabular.all import *\n",
    "#from fastai.text.all import *\n",
    "#from fastai.collab import *"
   ]
  },
  {
   "cell_type": "markdown",
   "id": "686f0d1f-6c08-4ba7-a629-5c227695e16a",
   "metadata": {},
   "source": [
    "EXAMPLE OF A FIRST HOOK FUNCTION WHICH RUNS ERRYTIME forward() is called by a module m      def hook(m,i,o):  m->module, i->input ,o->output (of the module,m)"
   ]
  },
  {
   "cell_type": "code",
   "execution_count": 17,
   "id": "f02f4279-4c37-4229-945b-65d16298c2ce",
   "metadata": {},
   "outputs": [
    {
     "name": "stdout",
     "output_type": "stream",
     "text": [
      "Linear(in_features=5, out_features=3, bias=True) (tensor([[-0.1075,  0.8650,  0.2493,  0.4230,  0.6010],\n",
      "        [ 1.2916,  1.4304, -0.2478, -0.0238,  1.2026],\n",
      "        [-1.1860, -1.7028,  0.5411,  1.3464,  0.8600],\n",
      "        [-0.6577, -1.2541,  0.0234, -0.3018,  2.1194]]),) tensor([[ 0.4002,  0.0069, -0.0898],\n",
      "        [ 0.1960,  0.0107,  0.2090],\n",
      "        [ 0.9182, -0.3651, -0.9004],\n",
      "        [ 0.2131,  0.3335, -1.6219]], grad_fn=<AddmmBackward>)\n"
     ]
    },
    {
     "data": {
      "text/plain": [
       "torch.Size([4, 3])"
      ]
     },
     "execution_count": 17,
     "metadata": {},
     "output_type": "execute_result"
    }
   ],
   "source": [
    "tst_model = nn.Linear(5,3)\n",
    "def example_forward_hook(m,i,o): print(m,i,o)\n",
    "    \n",
    "x = torch.randn(4,5)\n",
    "hook = tst_model.register_forward_hook(example_forward_hook)\n",
    "y = tst_model(x)\n",
    "hook.remove()\n",
    "y.shape"
   ]
  },
  {
   "cell_type": "markdown",
   "id": "402a7b95-778f-4ec7-9237-a1456800e6aa",
   "metadata": {},
   "source": [
    "EXAMPLE OF A BACKWARD HOOK  def bckwd_hook(m,gi,go):m->module,gi->grad_in,go->grad_out"
   ]
  },
  {
   "cell_type": "code",
   "execution_count": 18,
   "id": "5425f6d9-a083-4db9-816a-428f717a872a",
   "metadata": {
    "collapsed": true,
    "jupyter": {
     "outputs_hidden": true
    },
    "tags": []
   },
   "outputs": [
    {
     "name": "stdout",
     "output_type": "stream",
     "text": [
      "Linear(in_features=5, out_features=3, bias=True) (tensor([ 0.2397, -0.1594,  0.1367]), None, tensor([[-0.1425, -0.2120,  0.3319],\n",
      "        [ 0.3004,  0.0768,  0.1133],\n",
      "        [ 0.1601,  0.1233, -0.1168],\n",
      "        [ 0.1968,  0.1253, -0.0638],\n",
      "        [ 0.0798,  0.3632, -0.2739]])) (tensor([[ 0.0848,  0.0754, -0.0509],\n",
      "        [ 0.0404, -0.0599, -0.0531],\n",
      "        [-0.0071, -0.1538,  0.1768],\n",
      "        [ 0.1215, -0.0211,  0.0640]]),)\n"
     ]
    },
    {
     "name": "stderr",
     "output_type": "stream",
     "text": [
      "D:\\Anaconda3\\envs\\deeplearning\\lib\\site-packages\\torch\\nn\\modules\\module.py:795: UserWarning: Using a non-full backward hook when the forward contains multiple autograd Nodes is deprecated and will be removed in future versions. This hook will be missing some grad_input. Please use register_full_backward_hook to get the documented behavior.\n",
      "  warnings.warn(\"Using a non-full backward hook when the forward contains multiple autograd Nodes \"\n"
     ]
    }
   ],
   "source": [
    "def example_backward_hook(m,gi,go): print(m,gi,go)\n",
    "hook = tst_model.register_backward_hook(example_backward_hook)\n",
    "\n",
    "x = torch.randn(4,5)\n",
    "y = tst_model(x)\n",
    "loss = y.pow(2).mean()\n",
    "loss.backward()\n",
    "hook.remove()"
   ]
  },
  {
   "cell_type": "code",
   "execution_count": null,
   "id": "115066d2-9b23-47fa-8648-eb9facdae419",
   "metadata": {},
   "outputs": [],
   "source": []
  }
 ],
 "metadata": {
  "kernelspec": {
   "display_name": "Python 3",
   "language": "python",
   "name": "python3"
  },
  "language_info": {
   "codemirror_mode": {
    "name": "ipython",
    "version": 3
   },
   "file_extension": ".py",
   "mimetype": "text/x-python",
   "name": "python",
   "nbconvert_exporter": "python",
   "pygments_lexer": "ipython3",
   "version": "3.8.8"
  }
 },
 "nbformat": 4,
 "nbformat_minor": 5
}
