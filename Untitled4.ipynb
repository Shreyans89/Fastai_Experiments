{
 "cells": [
  {
   "cell_type": "code",
   "execution_count": null,
   "id": "42ee10f0-1c23-44d2-87be-ce3606b7e827",
   "metadata": {},
   "outputs": [],
   "source": []
  },
  {
   "cell_type": "code",
   "execution_count": 1,
   "id": "5ab4e7ce-0585-4d5e-8914-ff9f34663b8d",
   "metadata": {},
   "outputs": [],
   "source": [
    "from ipywidgets import Button\n",
    "from tkinter import Tk, filedialog\n",
    "from IPython.display import clear_output, display"
   ]
  },
  {
   "cell_type": "code",
   "execution_count": 4,
   "id": "f257bc52-8b71-4f96-b027-81d7c604ba46",
   "metadata": {},
   "outputs": [],
   "source": [
    "def get_button(description,on_click_fn):   \n",
    "    button= Button(description=description)\n",
    "    button.on_click(on_click_fn)\n",
    "    return button\n",
    "    \n",
    "class Interactive_Trainer():\n",
    "    def __init__(self):\n",
    "        display(get_button(\"abc\",self.select_folder))\n",
    "      \n",
    "    def select_folder(self):\n",
    "        clear_output()\n",
    "        root = Tk()\n",
    "        root.withdraw() # Hide the main window.\n",
    "        root.call('wm', 'attributes', '.', '-topmost', True) # Raise the root to the top of all windows.\n",
    "        ##b.folder=filedialog.askdirectory()\n",
    "        self.folder=Path(filedialog.askdirectory())\n",
    "        # selected folder will be set button's folder attribute.\n",
    "         #print(b.folder) # Print the list of files selected."
   ]
  },
  {
   "cell_type": "code",
   "execution_count": 5,
   "id": "8a66e9a0-2907-4baa-823a-8779ea4bdd54",
   "metadata": {},
   "outputs": [
    {
     "data": {
      "application/vnd.jupyter.widget-view+json": {
       "model_id": "5bffff1482624680b910abcabc3643f4",
       "version_major": 2,
       "version_minor": 0
      },
      "text/plain": [
       "Button(description='abc', style=ButtonStyle())"
      ]
     },
     "metadata": {},
     "output_type": "display_data"
    },
    {
     "data": {
      "text/plain": [
       "<__main__.Interactive_Trainer at 0x17b050e0430>"
      ]
     },
     "execution_count": 5,
     "metadata": {},
     "output_type": "execute_result"
    }
   ],
   "source": [
    "Interactive_Trainer()"
   ]
  },
  {
   "cell_type": "code",
   "execution_count": null,
   "id": "f6ba0f0b-790f-48aa-ba47-4d7cc48b9166",
   "metadata": {},
   "outputs": [],
   "source": []
  },
  {
   "cell_type": "code",
   "execution_count": null,
   "id": "be4c3774-08de-4986-80f5-477b9b390650",
   "metadata": {},
   "outputs": [],
   "source": []
  },
  {
   "cell_type": "code",
   "execution_count": null,
   "id": "30853c89-c3b9-4071-ad1c-da4dca39b4d7",
   "metadata": {},
   "outputs": [],
   "source": []
  }
 ],
 "metadata": {
  "kernelspec": {
   "display_name": "Python 3",
   "language": "python",
   "name": "python3"
  },
  "language_info": {
   "codemirror_mode": {
    "name": "ipython",
    "version": 3
   },
   "file_extension": ".py",
   "mimetype": "text/x-python",
   "name": "python",
   "nbconvert_exporter": "python",
   "pygments_lexer": "ipython3",
   "version": "3.8.8"
  }
 },
 "nbformat": 4,
 "nbformat_minor": 5
}
